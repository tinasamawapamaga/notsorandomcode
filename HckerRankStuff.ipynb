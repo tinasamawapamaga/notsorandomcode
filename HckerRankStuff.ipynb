{
 "cells": [
  {
   "cell_type": "code",
   "execution_count": 2,
   "metadata": {},
   "outputs": [
    {
     "name": "stdin",
     "output_type": "stream",
     "text": [
      " AABCAAADA\n",
      " 3\n"
     ]
    },
    {
     "name": "stdout",
     "output_type": "stream",
     "text": [
      "AB\n",
      "CA\n",
      "AD\n"
     ]
    }
   ],
   "source": [
    "from collections import OrderedDict \n",
    "\n",
    "def merge_the_tools(string, k):\n",
    "    #Split strings into subset of strings of fixed length\n",
    "    #using list comprehension\n",
    "    chunks = [string[i:i+k] for i in range(0, len(string), k)]\n",
    "    \n",
    "    for w in chunks:\n",
    "        #Print the unique strings in alphabetical order\n",
    "        print(''.join(OrderedDict.fromkeys(w).keys()))\n",
    "\n",
    "if __name__ == '__main__':\n",
    "    string, k = input(), int(input())\n",
    "    merge_the_tools(string, k)\n",
    "    "
   ]
  },
  {
   "cell_type": "code",
   "execution_count": 4,
   "metadata": {},
   "outputs": [
    {
     "name": "stdout",
     "output_type": "stream",
     "text": [
      "7\n"
     ]
    }
   ],
   "source": [
    "#Remove duplicates from sorted array\n",
    "#inplace. \n",
    "def removeDuplicates(nums):\n",
    "        if len(nums) == 0 or len(nums) == 1:\n",
    "            return len(nums)\n",
    "        \n",
    "        next_idx = 1\n",
    "        curr_num = nums[0]\n",
    "        \n",
    "        for i, num in enumerate(nums):\n",
    "            if num != curr_num:\n",
    "                nums[next_idx] = num\n",
    "                curr_num = num\n",
    "                next_idx += 1\n",
    "            \n",
    "        return next_idx\n",
    "    \n",
    "if __name__ == '__main__':\n",
    "    arr=[1,1,1,1,2,3,4,5,6,6,7]\n",
    "    a=removeDuplicates(arr)\n",
    "    print(a)"
   ]
  },
  {
   "cell_type": "code",
   "execution_count": 5,
   "metadata": {},
   "outputs": [
    {
     "name": "stdout",
     "output_type": "stream",
     "text": [
      "7\n"
     ]
    }
   ],
   "source": [
    "\"\"\"Say you have an array prices for which \n",
    "the ith element is the price of a given stock on day ith.\n",
    "Design an algorithm to find the maximum profit. \n",
    "You may complete as many transactions as you like \n",
    "(i.e., buy one and sell one share of the stock multiple times).\"\"\"\n",
    "def maxProfit(prices):\n",
    "        prof=0\n",
    "        n=len(prices)\n",
    "        for i in range(1,n):\n",
    "            if prices[i]>prices[i-1]:\n",
    "                prof+=(prices[i]-prices[i-1])\n",
    "        return prof\n",
    "if __name__ == '__main__':\n",
    "    arr=[7,1,5,3,6,4]\n",
    "    a=maxProfit(arr)\n",
    "    print(a)"
   ]
  },
  {
   "cell_type": "code",
   "execution_count": null,
   "metadata": {},
   "outputs": [],
   "source": []
  }
 ],
 "metadata": {
  "kernelspec": {
   "display_name": "Python 3",
   "language": "python",
   "name": "python3"
  },
  "language_info": {
   "codemirror_mode": {
    "name": "ipython",
    "version": 3
   },
   "file_extension": ".py",
   "mimetype": "text/x-python",
   "name": "python",
   "nbconvert_exporter": "python",
   "pygments_lexer": "ipython3",
   "version": "3.8.3"
  }
 },
 "nbformat": 4,
 "nbformat_minor": 4
}
